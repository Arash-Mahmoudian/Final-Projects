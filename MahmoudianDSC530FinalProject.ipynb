{
 "cells": [
  {
   "cell_type": "markdown",
   "id": "cf48f7c7",
   "metadata": {},
   "source": [
    "<h1><center><span style='color:Balck'>DSC530-T302 Data Exploration and Analysis (2233-1)</span></center></h1>\n",
    "<h1><center><span style='color:Balck'>Final project: EDA on Loan Prediction dataset</span></center></h1>\n",
    "<h1><center><span style='color:blue'>Arash Mahmooudian</span></center></h1>"
   ]
  },
  {
   "cell_type": "markdown",
   "id": "1dca570e",
   "metadata": {},
   "source": [
    "## About the Dataset\n",
    "\n",
    "The Loan Prediction dataset is consist of records for 614 different applicants and their application status. Following is the list of available 13 variables in the dataset and their descriptions:\n",
    "\n",
    " * Loan_ID:  Is a String value that represents the applicant's ID.\n",
    " * Gender:   Is a String value that represets applicants gender type (Male/Female).\n",
    " * Married:  Is a String value that represent the applicants marital status (Yes/No).\n",
    " * Dependents: Is an Integer value that shows number applicants dependents. \n",
    " * Education:  Is a String value showing the applicants education level.\n",
    " * Self_Employed: Is a String value showing applicants self employement status (Yes/No).\n",
    " * ApplicantIncome: Is an Integer value that shows applicants annual income.\n",
    " * CoapplicantIncome: Is an Integer value that show Co'applicants annual income\n",
    " * LoanAmount: Is an Integer value that shows the amount of requested loan upto to $700.\n",
    " * Loan_Amount_Term: Is an Integer value that shows the length of Loan based on days\n",
    " * Credit_History: Is an Integer value showing Credit_history availability (0/1)\n",
    " * Loan_Status: Is a String value showing the Loan Approval status (Y/N)\n",
    "\n",
    "#### Goal:\n",
    "Predict Loan approval for applicants.\n",
    "The question are Married applicants are tend to apply for higher LoanAmount than single applicants."
   ]
  },
  {
   "cell_type": "code",
   "execution_count": 1,
   "id": "4c6fb973",
   "metadata": {},
   "outputs": [],
   "source": [
    "import warnings\n",
    "import matplotlib.pyplot as plt\n",
    "import pandas as pd\n",
    "import numpy as np\n",
    "import seaborn as sns\n",
    "import thinkplot\n",
    "import thinkstats2"
   ]
  },
  {
   "cell_type": "code",
   "execution_count": 2,
   "id": "d60eecf7",
   "metadata": {},
   "outputs": [
    {
     "name": "stdout",
     "output_type": "stream",
     "text": [
      "(614, 13)\n"
     ]
    },
    {
     "data": {
      "text/html": [
       "<div>\n",
       "<style scoped>\n",
       "    .dataframe tbody tr th:only-of-type {\n",
       "        vertical-align: middle;\n",
       "    }\n",
       "\n",
       "    .dataframe tbody tr th {\n",
       "        vertical-align: top;\n",
       "    }\n",
       "\n",
       "    .dataframe thead th {\n",
       "        text-align: right;\n",
       "    }\n",
       "</style>\n",
       "<table border=\"1\" class=\"dataframe\">\n",
       "  <thead>\n",
       "    <tr style=\"text-align: right;\">\n",
       "      <th></th>\n",
       "      <th>Loan_ID</th>\n",
       "      <th>Gender</th>\n",
       "      <th>Married</th>\n",
       "      <th>Dependents</th>\n",
       "      <th>Education</th>\n",
       "      <th>Self_Employed</th>\n",
       "      <th>ApplicantIncome</th>\n",
       "      <th>CoapplicantIncome</th>\n",
       "      <th>LoanAmount</th>\n",
       "      <th>Loan_Amount_Term</th>\n",
       "      <th>Credit_History</th>\n",
       "      <th>Property_Area</th>\n",
       "      <th>Loan_Status</th>\n",
       "    </tr>\n",
       "  </thead>\n",
       "  <tbody>\n",
       "    <tr>\n",
       "      <th>0</th>\n",
       "      <td>LP001002</td>\n",
       "      <td>Male</td>\n",
       "      <td>No</td>\n",
       "      <td>0</td>\n",
       "      <td>Graduate</td>\n",
       "      <td>No</td>\n",
       "      <td>5849</td>\n",
       "      <td>0.0</td>\n",
       "      <td>NaN</td>\n",
       "      <td>360.0</td>\n",
       "      <td>1.0</td>\n",
       "      <td>Urban</td>\n",
       "      <td>Y</td>\n",
       "    </tr>\n",
       "    <tr>\n",
       "      <th>1</th>\n",
       "      <td>LP001003</td>\n",
       "      <td>Male</td>\n",
       "      <td>Yes</td>\n",
       "      <td>1</td>\n",
       "      <td>Graduate</td>\n",
       "      <td>No</td>\n",
       "      <td>4583</td>\n",
       "      <td>1508.0</td>\n",
       "      <td>128.0</td>\n",
       "      <td>360.0</td>\n",
       "      <td>1.0</td>\n",
       "      <td>Rural</td>\n",
       "      <td>N</td>\n",
       "    </tr>\n",
       "    <tr>\n",
       "      <th>2</th>\n",
       "      <td>LP001005</td>\n",
       "      <td>Male</td>\n",
       "      <td>Yes</td>\n",
       "      <td>0</td>\n",
       "      <td>Graduate</td>\n",
       "      <td>Yes</td>\n",
       "      <td>3000</td>\n",
       "      <td>0.0</td>\n",
       "      <td>66.0</td>\n",
       "      <td>360.0</td>\n",
       "      <td>1.0</td>\n",
       "      <td>Urban</td>\n",
       "      <td>Y</td>\n",
       "    </tr>\n",
       "    <tr>\n",
       "      <th>3</th>\n",
       "      <td>LP001006</td>\n",
       "      <td>Male</td>\n",
       "      <td>Yes</td>\n",
       "      <td>0</td>\n",
       "      <td>Not Graduate</td>\n",
       "      <td>No</td>\n",
       "      <td>2583</td>\n",
       "      <td>2358.0</td>\n",
       "      <td>120.0</td>\n",
       "      <td>360.0</td>\n",
       "      <td>1.0</td>\n",
       "      <td>Urban</td>\n",
       "      <td>Y</td>\n",
       "    </tr>\n",
       "    <tr>\n",
       "      <th>4</th>\n",
       "      <td>LP001008</td>\n",
       "      <td>Male</td>\n",
       "      <td>No</td>\n",
       "      <td>0</td>\n",
       "      <td>Graduate</td>\n",
       "      <td>No</td>\n",
       "      <td>6000</td>\n",
       "      <td>0.0</td>\n",
       "      <td>141.0</td>\n",
       "      <td>360.0</td>\n",
       "      <td>1.0</td>\n",
       "      <td>Urban</td>\n",
       "      <td>Y</td>\n",
       "    </tr>\n",
       "  </tbody>\n",
       "</table>\n",
       "</div>"
      ],
      "text/plain": [
       "    Loan_ID Gender Married Dependents     Education Self_Employed  \\\n",
       "0  LP001002   Male      No          0      Graduate            No   \n",
       "1  LP001003   Male     Yes          1      Graduate            No   \n",
       "2  LP001005   Male     Yes          0      Graduate           Yes   \n",
       "3  LP001006   Male     Yes          0  Not Graduate            No   \n",
       "4  LP001008   Male      No          0      Graduate            No   \n",
       "\n",
       "   ApplicantIncome  CoapplicantIncome  LoanAmount  Loan_Amount_Term  \\\n",
       "0             5849                0.0         NaN             360.0   \n",
       "1             4583             1508.0       128.0             360.0   \n",
       "2             3000                0.0        66.0             360.0   \n",
       "3             2583             2358.0       120.0             360.0   \n",
       "4             6000                0.0       141.0             360.0   \n",
       "\n",
       "   Credit_History Property_Area Loan_Status  \n",
       "0             1.0         Urban           Y  \n",
       "1             1.0         Rural           N  \n",
       "2             1.0         Urban           Y  \n",
       "3             1.0         Urban           Y  \n",
       "4             1.0         Urban           Y  "
      ]
     },
     "execution_count": 2,
     "metadata": {},
     "output_type": "execute_result"
    }
   ],
   "source": [
    "df_loan = pd.read_csv('Loan Predication.csv')\n",
    "print(df_loan.shape)\n",
    "df_loan.head()"
   ]
  },
  {
   "cell_type": "code",
   "execution_count": 3,
   "id": "8d2e5fe3",
   "metadata": {},
   "outputs": [
    {
     "name": "stdout",
     "output_type": "stream",
     "text": [
      "<class 'pandas.core.frame.DataFrame'>\n",
      "RangeIndex: 614 entries, 0 to 613\n",
      "Data columns (total 13 columns):\n",
      " #   Column             Non-Null Count  Dtype  \n",
      "---  ------             --------------  -----  \n",
      " 0   Loan_ID            614 non-null    object \n",
      " 1   Gender             601 non-null    object \n",
      " 2   Married            611 non-null    object \n",
      " 3   Dependents         599 non-null    object \n",
      " 4   Education          614 non-null    object \n",
      " 5   Self_Employed      582 non-null    object \n",
      " 6   ApplicantIncome    614 non-null    int64  \n",
      " 7   CoapplicantIncome  614 non-null    float64\n",
      " 8   LoanAmount         592 non-null    float64\n",
      " 9   Loan_Amount_Term   600 non-null    float64\n",
      " 10  Credit_History     564 non-null    float64\n",
      " 11  Property_Area      614 non-null    object \n",
      " 12  Loan_Status        614 non-null    object \n",
      "dtypes: float64(4), int64(1), object(8)\n",
      "memory usage: 62.5+ KB\n"
     ]
    }
   ],
   "source": [
    "df_loan.info()"
   ]
  },
  {
   "cell_type": "markdown",
   "id": "7a118fc0",
   "metadata": {},
   "source": [
    "## Problem Statement:\n",
    " * 1- Married applicants are tend are to apply for a higher amonut of Loan than the Singles.\n",
    "\n",
    "### Variables of Interest:\n",
    "\n",
    "Following the problem statemen below variables have been used to examine the hypothesis\n",
    "\n",
    " * Loan_ID: Is a String value that represents the applicant's ID.\n",
    " * Married: Is a String value that represent the applicants marital status (Yes/No).\n",
    " * Education: Is a String value showing the applicants education level.\n",
    " * ApplicantIncome: Is an Integer value that shows applicants annual income.\n",
    " * CoapplicantIncome: Is an Integer value that show Co'applicants annual income\n",
    " * LoanAmount: Is an Integer value that shows the amount of requested loan upto to $700\n",
    " * Loan_Status: Is a String value showing the Loan Approval status (Y/N)\n",
    " "
   ]
  },
  {
   "cell_type": "code",
   "execution_count": 4,
   "id": "7ef75a2b",
   "metadata": {
    "scrolled": true
   },
   "outputs": [
    {
     "name": "stdout",
     "output_type": "stream",
     "text": [
      "<class 'pandas.core.frame.DataFrame'>\n",
      "RangeIndex: 614 entries, 0 to 613\n",
      "Data columns (total 8 columns):\n",
      " #   Column             Non-Null Count  Dtype  \n",
      "---  ------             --------------  -----  \n",
      " 0   Loan_ID            614 non-null    object \n",
      " 1   Gender             601 non-null    object \n",
      " 2   Married            611 non-null    object \n",
      " 3   Education          614 non-null    object \n",
      " 4   ApplicantIncome    614 non-null    int64  \n",
      " 5   CoapplicantIncome  614 non-null    float64\n",
      " 6   LoanAmount         592 non-null    float64\n",
      " 7   Loan_Status        614 non-null    object \n",
      "dtypes: float64(2), int64(1), object(5)\n",
      "memory usage: 38.5+ KB\n"
     ]
    }
   ],
   "source": [
    "df = df_loan[['Loan_ID','Gender','Married','Education','ApplicantIncome','CoapplicantIncome','LoanAmount','Loan_Status']]\n",
    "df.info()"
   ]
  },
  {
   "cell_type": "markdown",
   "id": "104ff328",
   "metadata": {},
   "source": [
    "## Data Evaluation & Transformation"
   ]
  },
  {
   "cell_type": "code",
   "execution_count": 5,
   "id": "0d5a1426",
   "metadata": {},
   "outputs": [
    {
     "name": "stdout",
     "output_type": "stream",
     "text": [
      "Yes    398\n",
      "No     213\n",
      "Name: Married, dtype: int64\n",
      "(614, 8)\n",
      "(577, 8)\n",
      "<class 'pandas.core.frame.DataFrame'>\n",
      "Int64Index: 577 entries, 1 to 613\n",
      "Data columns (total 8 columns):\n",
      " #   Column             Non-Null Count  Dtype  \n",
      "---  ------             --------------  -----  \n",
      " 0   Loan_ID            577 non-null    object \n",
      " 1   Gender             577 non-null    object \n",
      " 2   Married            577 non-null    object \n",
      " 3   Education          577 non-null    object \n",
      " 4   ApplicantIncome    577 non-null    int64  \n",
      " 5   CoapplicantIncome  577 non-null    float64\n",
      " 6   LoanAmount         577 non-null    float64\n",
      " 7   Loan_Status        577 non-null    object \n",
      "dtypes: float64(2), int64(1), object(5)\n",
      "memory usage: 40.6+ KB\n"
     ]
    }
   ],
   "source": [
    "print(df.Married.value_counts())   # There are 8 NULL Values in this variable which needs to be dropped\n",
    "print(df.shape)\n",
    "df = df.dropna()                   # All rows having NULL values are dropped\n",
    "print(df.shape)\n",
    "df.info()"
   ]
  },
  {
   "cell_type": "code",
   "execution_count": 6,
   "id": "b7aea4bc",
   "metadata": {},
   "outputs": [
    {
     "name": "stdout",
     "output_type": "stream",
     "text": [
      "Male      468\n",
      "Female    109\n",
      "Name: Gender, dtype: int64\n",
      "Yes    374\n",
      "No     203\n",
      "Name: Married, dtype: int64\n"
     ]
    },
    {
     "data": {
      "text/plain": [
       "<AxesSubplot:>"
      ]
     },
     "execution_count": 6,
     "metadata": {},
     "output_type": "execute_result"
    },
    {
     "data": {
      "image/png": "[encoded data removed]",
      "text/plain": [
       "<Figure size 432x288 with 1 Axes>"
      ]
     },
     "metadata": {
      "needs_background": "light"
     },
     "output_type": "display_data"
    }
   ],
   "source": [
    "print(df.Gender.value_counts())\n",
    "df['Gender'].replace(['Male', 'Female'], [1, 0], inplace=True)    # 1: Male and 0: Female\n",
    "print(df.Married.value_counts())\n",
    "\n",
    "df.Gender.hist() # Plots histogram"
   ]
  },
  {
   "cell_type": "code",
   "execution_count": 7,
   "id": "a3dd87e4",
   "metadata": {},
   "outputs": [
    {
     "name": "stdout",
     "output_type": "stream",
     "text": [
      "Yes    374\n",
      "No     203\n",
      "Name: Married, dtype: int64\n",
      "1    374\n",
      "0    203\n",
      "Name: Married, dtype: int64\n"
     ]
    },
    {
     "data": {
      "text/plain": [
       "<AxesSubplot:>"
      ]
     },
     "execution_count": 7,
     "metadata": {},
     "output_type": "execute_result"
    },
    {
     "data": {
      "image/png": "[encoded data removed]",
      "text/plain": [
       "<Figure size 432x288 with 1 Axes>"
      ]
     },
     "metadata": {
      "needs_background": "light"
     },
     "output_type": "display_data"
    }
   ],
   "source": [
    "print(df.Married.value_counts())\n",
    "df['Married'].replace(['Yes', 'No'], [1, 0], inplace=True)    # 1: Married and 0: Single\n",
    "print(df.Married.value_counts())\n",
    "\n",
    "df.Married.hist() # Plots histogram"
   ]
  },
  {
   "cell_type": "code",
   "execution_count": 8,
   "id": "af560fb6",
   "metadata": {},
   "outputs": [
    {
     "name": "stdout",
     "output_type": "stream",
     "text": [
      "Graduate        451\n",
      "Not Graduate    126\n",
      "Name: Education, dtype: int64\n",
      "1    451\n",
      "0    126\n",
      "Name: Education, dtype: int64\n"
     ]
    },
    {
     "data": {
      "text/plain": [
       "<AxesSubplot:>"
      ]
     },
     "execution_count": 8,
     "metadata": {},
     "output_type": "execute_result"
    },
    {
     "data": {
      "image/png": "[encoded data removed]",
      "text/plain": [
       "<Figure size 432x288 with 1 Axes>"
      ]
     },
     "metadata": {
      "needs_background": "light"
     },
     "output_type": "display_data"
    }
   ],
   "source": [
    "print(df.Education.value_counts())\n",
    "df['Education'].replace(['Graduate', 'Not Graduate'], [1, 0], inplace=True)  # 1: Graduate and 0:Not Graduate\n",
    "print(df.Education.value_counts())\n",
    "\n",
    "df.Education.hist() # Plots histogram"
   ]
  },
  {
   "cell_type": "code",
   "execution_count": 9,
   "id": "66826f64",
   "metadata": {},
   "outputs": [
    {
     "name": "stdout",
     "output_type": "stream",
     "text": [
      "2500    9\n",
      "4583    6\n",
      "2600    6\n",
      "6000    6\n",
      "3750    5\n",
      "Name: ApplicantIncome, dtype: int64 \n",
      "\n",
      "\n",
      "Income range:150 to 81000\n"
     ]
    },
    {
     "data": {
      "text/plain": [
       "<AxesSubplot:>"
      ]
     },
     "execution_count": 9,
     "metadata": {},
     "output_type": "execute_result"
    },
    {
     "data": {
      "image/png": "[encoded data removed]",
      "text/plain": [
       "<Figure size 432x288 with 1 Axes>"
      ]
     },
     "metadata": {
      "needs_background": "light"
     },
     "output_type": "display_data"
    }
   ],
   "source": [
    "print(df.ApplicantIncome.value_counts().head(), '\\n\\n')\n",
    "print(f'Income range:{df.ApplicantIncome.min()} to {df.ApplicantIncome.max()}')\n",
    "\n",
    "df.ApplicantIncome.hist(bins = 30) # Plots histogram\n",
    "\n",
    "# Applicants income meanly is less than $10000"
   ]
  },
  {
   "cell_type": "code",
   "execution_count": 10,
   "id": "1bba9bed",
   "metadata": {},
   "outputs": [
    {
     "name": "stdout",
     "output_type": "stream",
     "text": [
      "0.0       254\n",
      "2083.0      5\n",
      "2500.0      5\n",
      "1666.0      5\n",
      "5625.0      3\n",
      "Name: CoapplicantIncome, dtype: int64 \n",
      "\n",
      "\n",
      "Income range: $0 to $41667\n"
     ]
    },
    {
     "data": {
      "text/plain": [
       "<AxesSubplot:>"
      ]
     },
     "execution_count": 10,
     "metadata": {},
     "output_type": "execute_result"
    },
    {
     "data": {
      "image/png": "[encoded data removed]",
      "text/plain": [
       "<Figure size 432x288 with 1 Axes>"
      ]
     },
     "metadata": {
      "needs_background": "light"
     },
     "output_type": "display_data"
    }
   ],
   "source": [
    "print(df.CoapplicantIncome.value_counts().head(), '\\n\\n')\n",
    "print(f'Income range: ${int(df.CoapplicantIncome.min())} to ${int(df.CoapplicantIncome.max())}')\n",
    "\n",
    "df.CoapplicantIncome.hist(bins = 30) # Plots histogram\n",
    "\n",
    "# CoApplicants income are mostly less than $10000"
   ]
  },
  {
   "cell_type": "code",
   "execution_count": 11,
   "id": "ee270286",
   "metadata": {},
   "outputs": [
    {
     "name": "stdout",
     "output_type": "stream",
     "text": [
      "120.0    20\n",
      "110.0    16\n",
      "100.0    15\n",
      "187.0    12\n",
      "128.0    11\n",
      "Name: LoanAmount, dtype: int64 \n",
      "\n",
      "\n",
      "Income range:$ 9 to $650\n"
     ]
    },
    {
     "data": {
      "text/plain": [
       "<AxesSubplot:>"
      ]
     },
     "execution_count": 11,
     "metadata": {},
     "output_type": "execute_result"
    },
    {
     "data": {
      "image/png": "[encoded data removed]",
      "text/plain": [
       "<Figure size 432x288 with 1 Axes>"
      ]
     },
     "metadata": {
      "needs_background": "light"
     },
     "output_type": "display_data"
    }
   ],
   "source": [
    "print(df.LoanAmount.value_counts().head(), '\\n\\n')\n",
    "print(f'Income range:$ {int(df.LoanAmount.min())} to ${int(df.LoanAmount.max())}')\n",
    "\n",
    "df.LoanAmount.hist(bins = 30) # Plots histogram\n",
    "\n",
    "# Most applicants are applying for a loan amount around $120"
   ]
  },
  {
   "cell_type": "code",
   "execution_count": 12,
   "id": "14f99b84",
   "metadata": {},
   "outputs": [
    {
     "name": "stdout",
     "output_type": "stream",
     "text": [
      "Y    401\n",
      "N    176\n",
      "Name: Loan_Status, dtype: int64\n",
      "1    401\n",
      "0    176\n",
      "Name: Loan_Status, dtype: int64\n"
     ]
    },
    {
     "data": {
      "text/plain": [
       "<AxesSubplot:>"
      ]
     },
     "execution_count": 12,
     "metadata": {},
     "output_type": "execute_result"
    },
    {
     "data": {
      "image/png": "[encoded data removed]",
      "text/plain": [
       "<Figure size 432x288 with 1 Axes>"
      ]
     },
     "metadata": {
      "needs_background": "light"
     },
     "output_type": "display_data"
    }
   ],
   "source": [
    "print(df.Loan_Status.value_counts())\n",
    "df['Loan_Status'].replace(['Y', 'N'], [1, 0], inplace=True)  # 1: Approved and 0: Refused\n",
    "print(df.Loan_Status.value_counts())\n",
    "\n",
    "df.Loan_Status.hist() # Plots histogram"
   ]
  },
  {
   "cell_type": "markdown",
   "id": "9e1cb10e",
   "metadata": {},
   "source": [
    "# Outlier Evaluation\n",
    "\n",
    " * No outliers are observed in the 0/1 variables ('Gender', 'Married', 'Education', 'Loan_Status', 'Loan_Status')\n",
    " * ApplicantIncome boxplot showing some off numbers, however they belong to the high income applicants\n",
    " * CoapplicantIncome boxplot showing some off numbers, however they belong to the high income applicants"
   ]
  },
  {
   "cell_type": "code",
   "execution_count": 13,
   "id": "a1c6edbe",
   "metadata": {},
   "outputs": [
    {
     "data": {
      "text/plain": [
       "<AxesSubplot:>"
      ]
     },
     "execution_count": 13,
     "metadata": {},
     "output_type": "execute_result"
    },
    {
     "data": {
      "image/png": "[encoded data removed]",
      "text/plain": [
       "<Figure size 432x288 with 1 Axes>"
      ]
     },
     "metadata": {
      "needs_background": "light"
     },
     "output_type": "display_data"
    }
   ],
   "source": [
    "# First we will plot boxplot for the variables having only 0/1 values\n",
    "boxplot = df.boxplot(column=['Gender', 'Married', 'Education', 'Loan_Status', 'Loan_Status'])\n",
    "boxplot\n",
    "\n",
    "# As these Variables are only representing a boolean values, no outliers are observed"
   ]
  },
  {
   "cell_type": "code",
   "execution_count": 14,
   "id": "4b4da75b",
   "metadata": {},
   "outputs": [
    {
     "data": {
      "text/plain": [
       "<AxesSubplot:>"
      ]
     },
     "execution_count": 14,
     "metadata": {},
     "output_type": "execute_result"
    },
    {
     "data": {
      "image/png": "[encoded data removed]",
      "text/plain": [
       "<Figure size 432x288 with 1 Axes>"
      ]
     },
     "metadata": {
      "needs_background": "light"
     },
     "output_type": "display_data"
    }
   ],
   "source": [
    "boxplot = df.boxplot(column=['ApplicantIncome', 'CoapplicantIncome', 'LoanAmount'])\n",
    "boxplot\n",
    "\n",
    "# No outliers are observed, those points looks extreme belongs to high income applicants/coapplicants"
   ]
  },
  {
   "cell_type": "code",
   "execution_count": 15,
   "id": "fce33eaa",
   "metadata": {},
   "outputs": [
    {
     "name": "stdout",
     "output_type": "stream",
     "text": [
      "           Gender     Married   Education  ApplicantIncome  CoapplicantIncome  \\\n",
      "count  577.000000  577.000000  577.000000       577.000000         577.000000   \n",
      "mean     0.811092    0.648180    0.781629      5297.119584        1651.006794   \n",
      "std      0.391775    0.477952    0.413499      5853.236196        2994.669928   \n",
      "min      0.000000    0.000000    0.000000       150.000000           0.000000   \n",
      "25%      1.000000    0.000000    1.000000      2889.000000           0.000000   \n",
      "50%      1.000000    1.000000    1.000000      3800.000000        1229.000000   \n",
      "75%      1.000000    1.000000    1.000000      5746.000000        2333.000000   \n",
      "max      1.000000    1.000000    1.000000     81000.000000       41667.000000   \n",
      "\n",
      "       LoanAmount  Loan_Status  \n",
      "count  577.000000   577.000000  \n",
      "mean   144.968804     0.694974  \n",
      "std     82.704182     0.460818  \n",
      "min      9.000000     0.000000  \n",
      "25%    100.000000     0.000000  \n",
      "50%    127.000000     1.000000  \n",
      "75%    167.000000     1.000000  \n",
      "max    650.000000     1.000000   \n",
      "\n",
      "\n",
      "Variance: \n",
      " Gender               1.534879e-01\n",
      "Married              2.284385e-01\n",
      "Education            1.709814e-01\n",
      "ApplicantIncome      3.426037e+07\n",
      "CoapplicantIncome    8.968048e+06\n",
      "LoanAmount           6.839982e+03\n",
      "Loan_Status          2.123532e-01\n",
      "dtype: float64\n"
     ]
    },
    {
     "name": "stderr",
     "output_type": "stream",
     "text": [
      "C:\\Users\\Arash\\AppData\\Local\\Temp/ipykernel_16336/551938652.py:4: FutureWarning: Dropping of nuisance columns in DataFrame reductions (with 'numeric_only=None') is deprecated; in a future version this will raise TypeError.  Select only valid columns before calling the reduction.\n",
      "  print('Variance: \\n',df.var())\n"
     ]
    }
   ],
   "source": [
    "# Observe the statistical insights of the dataframe\n",
    "print(df.describe(), '\\n\\n')\n",
    "\n",
    "print('Variance: \\n',df.var())"
   ]
  },
  {
   "cell_type": "markdown",
   "id": "1a1a8a35",
   "metadata": {},
   "source": [
    "## PMF and CDF based on Marital Status and Loan Amount\n",
    "\n",
    " * Married Applicants\n",
    " * Single Applicants\n",
    " \n",
    " \n",
    " * In order to plot the Pmf and Cmf we need to create a new variable to hold LoanAmount based on a ranges of $5"
   ]
  },
  {
   "cell_type": "code",
   "execution_count": 16,
   "id": "b18ff3fb",
   "metadata": {},
   "outputs": [
    {
     "name": "stdout",
     "output_type": "stream",
     "text": [
      "12    33\n",
      "15    33\n",
      "3     31\n",
      "1     30\n",
      "10    28\n",
      "Name: LoanAmountCats, dtype: int64 \n",
      "\n",
      "\n"
     ]
    },
    {
     "data": {
      "text/plain": [
       "<AxesSubplot:>"
      ]
     },
     "execution_count": 16,
     "metadata": {},
     "output_type": "execute_result"
    },
    {
     "data": {
      "image/png": "[encoded data removed]",
      "text/plain": [
       "<Figure size 432x288 with 1 Axes>"
      ]
     },
     "metadata": {
      "needs_background": "light"
     },
     "output_type": "display_data"
    }
   ],
   "source": [
    "# Bining the LoanAmount variable on a bins of $5\n",
    "bins = [i for i in range(0, 700, 5)]\n",
    "df['LoanAmountCats'] = pd.cut(x=df['LoanAmount'], bins=bins)\n",
    "bins = list(df.LoanAmountCats.drop_duplicates())\n",
    "cats = [i for i in range(1, (len(bins)+1))]                 # Holds the categories ranging from 1 to 76 : Amount = cat * $5\n",
    "df['LoanAmountCats'].replace(bins,cats, inplace=True)\n",
    "print(df.LoanAmountCats.value_counts().head(), '\\n\\n')\n",
    "df.LoanAmountCats.hist(bins = 30) # Plots histogram\n"
   ]
  },
  {
   "cell_type": "code",
   "execution_count": 17,
   "id": "e4acee62",
   "metadata": {},
   "outputs": [
    {
     "name": "stdout",
     "output_type": "stream",
     "text": [
      " Married table shape: (374, 9)\n",
      " Single table shape: (203, 9)\n"
     ]
    }
   ],
   "source": [
    "# Create 2 seperated dataframes based on marital status married/single\n",
    "\n",
    "df_married = df [df['Married'] == 1]\n",
    "df_single = df [df['Married'] == 0]\n",
    "print(f' Married table shape: {df_married.shape}')\n",
    "print(f' Single table shape: {df_single.shape}')"
   ]
  },
  {
   "cell_type": "markdown",
   "id": "991f5e3f",
   "metadata": {},
   "source": [
    "## Mean of two datasets:\n",
    "\n",
    "\n",
    " * Mean of LoanAmount for married applicants is \\$ 153.95.\n",
    " * Mean of LoanAmount for single applicants is \\$ 128.415.\n",
    " \n",
    " \n",
    "* Mean of ApplicantIncome for married applicants is \\$ 5475.65\n",
    "* Mean of ApplicantIncome for single applicants is \\$ 4968.20 "
   ]
  },
  {
   "cell_type": "code",
   "execution_count": 18,
   "id": "1395d8c3",
   "metadata": {},
   "outputs": [
    {
     "data": {
      "text/html": [
       "<div>\n",
       "<style scoped>\n",
       "    .dataframe tbody tr th:only-of-type {\n",
       "        vertical-align: middle;\n",
       "    }\n",
       "\n",
       "    .dataframe tbody tr th {\n",
       "        vertical-align: top;\n",
       "    }\n",
       "\n",
       "    .dataframe thead th {\n",
       "        text-align: right;\n",
       "    }\n",
       "</style>\n",
       "<table border=\"1\" class=\"dataframe\">\n",
       "  <thead>\n",
       "    <tr style=\"text-align: right;\">\n",
       "      <th></th>\n",
       "      <th>Gender</th>\n",
       "      <th>Married</th>\n",
       "      <th>Education</th>\n",
       "      <th>ApplicantIncome</th>\n",
       "      <th>CoapplicantIncome</th>\n",
       "      <th>LoanAmount</th>\n",
       "      <th>Loan_Status</th>\n",
       "      <th>LoanAmountCats</th>\n",
       "    </tr>\n",
       "  </thead>\n",
       "  <tbody>\n",
       "    <tr>\n",
       "      <th>count</th>\n",
       "      <td>374.000000</td>\n",
       "      <td>374.0</td>\n",
       "      <td>374.000000</td>\n",
       "      <td>374.000000</td>\n",
       "      <td>374.000000</td>\n",
       "      <td>374.000000</td>\n",
       "      <td>374.000000</td>\n",
       "      <td>374.000000</td>\n",
       "    </tr>\n",
       "    <tr>\n",
       "      <th>mean</th>\n",
       "      <td>0.917112</td>\n",
       "      <td>1.0</td>\n",
       "      <td>0.778075</td>\n",
       "      <td>5475.649733</td>\n",
       "      <td>1807.301925</td>\n",
       "      <td>153.954545</td>\n",
       "      <td>0.727273</td>\n",
       "      <td>23.435829</td>\n",
       "    </tr>\n",
       "    <tr>\n",
       "      <th>std</th>\n",
       "      <td>0.276082</td>\n",
       "      <td>0.0</td>\n",
       "      <td>0.416098</td>\n",
       "      <td>6621.144960</td>\n",
       "      <td>2068.140361</td>\n",
       "      <td>85.842680</td>\n",
       "      <td>0.445958</td>\n",
       "      <td>18.026341</td>\n",
       "    </tr>\n",
       "    <tr>\n",
       "      <th>min</th>\n",
       "      <td>0.000000</td>\n",
       "      <td>1.0</td>\n",
       "      <td>0.000000</td>\n",
       "      <td>150.000000</td>\n",
       "      <td>0.000000</td>\n",
       "      <td>17.000000</td>\n",
       "      <td>0.000000</td>\n",
       "      <td>1.000000</td>\n",
       "    </tr>\n",
       "    <tr>\n",
       "      <th>25%</th>\n",
       "      <td>1.000000</td>\n",
       "      <td>1.0</td>\n",
       "      <td>1.000000</td>\n",
       "      <td>2883.750000</td>\n",
       "      <td>0.000000</td>\n",
       "      <td>107.250000</td>\n",
       "      <td>0.000000</td>\n",
       "      <td>10.000000</td>\n",
       "    </tr>\n",
       "    <tr>\n",
       "      <th>50%</th>\n",
       "      <td>1.000000</td>\n",
       "      <td>1.0</td>\n",
       "      <td>1.000000</td>\n",
       "      <td>3867.000000</td>\n",
       "      <td>1625.000000</td>\n",
       "      <td>131.000000</td>\n",
       "      <td>1.000000</td>\n",
       "      <td>17.500000</td>\n",
       "    </tr>\n",
       "    <tr>\n",
       "      <th>75%</th>\n",
       "      <td>1.000000</td>\n",
       "      <td>1.0</td>\n",
       "      <td>1.000000</td>\n",
       "      <td>5818.750000</td>\n",
       "      <td>2491.500000</td>\n",
       "      <td>177.500000</td>\n",
       "      <td>1.000000</td>\n",
       "      <td>34.000000</td>\n",
       "    </tr>\n",
       "    <tr>\n",
       "      <th>max</th>\n",
       "      <td>1.000000</td>\n",
       "      <td>1.0</td>\n",
       "      <td>1.000000</td>\n",
       "      <td>81000.000000</td>\n",
       "      <td>20000.000000</td>\n",
       "      <td>600.000000</td>\n",
       "      <td>1.000000</td>\n",
       "      <td>74.000000</td>\n",
       "    </tr>\n",
       "  </tbody>\n",
       "</table>\n",
       "</div>"
      ],
      "text/plain": [
       "           Gender  Married   Education  ApplicantIncome  CoapplicantIncome  \\\n",
       "count  374.000000    374.0  374.000000       374.000000         374.000000   \n",
       "mean     0.917112      1.0    0.778075      5475.649733        1807.301925   \n",
       "std      0.276082      0.0    0.416098      6621.144960        2068.140361   \n",
       "min      0.000000      1.0    0.000000       150.000000           0.000000   \n",
       "25%      1.000000      1.0    1.000000      2883.750000           0.000000   \n",
       "50%      1.000000      1.0    1.000000      3867.000000        1625.000000   \n",
       "75%      1.000000      1.0    1.000000      5818.750000        2491.500000   \n",
       "max      1.000000      1.0    1.000000     81000.000000       20000.000000   \n",
       "\n",
       "       LoanAmount  Loan_Status  LoanAmountCats  \n",
       "count  374.000000   374.000000      374.000000  \n",
       "mean   153.954545     0.727273       23.435829  \n",
       "std     85.842680     0.445958       18.026341  \n",
       "min     17.000000     0.000000        1.000000  \n",
       "25%    107.250000     0.000000       10.000000  \n",
       "50%    131.000000     1.000000       17.500000  \n",
       "75%    177.500000     1.000000       34.000000  \n",
       "max    600.000000     1.000000       74.000000  "
      ]
     },
     "execution_count": 18,
     "metadata": {},
     "output_type": "execute_result"
    }
   ],
   "source": [
    "df_married.describe()"
   ]
  },
  {
   "cell_type": "code",
   "execution_count": 19,
   "id": "2f039fc2",
   "metadata": {},
   "outputs": [
    {
     "data": {
      "text/html": [
       "<div>\n",
       "<style scoped>\n",
       "    .dataframe tbody tr th:only-of-type {\n",
       "        vertical-align: middle;\n",
       "    }\n",
       "\n",
       "    .dataframe tbody tr th {\n",
       "        vertical-align: top;\n",
       "    }\n",
       "\n",
       "    .dataframe thead th {\n",
       "        text-align: right;\n",
       "    }\n",
       "</style>\n",
       "<table border=\"1\" class=\"dataframe\">\n",
       "  <thead>\n",
       "    <tr style=\"text-align: right;\">\n",
       "      <th></th>\n",
       "      <th>Gender</th>\n",
       "      <th>Married</th>\n",
       "      <th>Education</th>\n",
       "      <th>ApplicantIncome</th>\n",
       "      <th>CoapplicantIncome</th>\n",
       "      <th>LoanAmount</th>\n",
       "      <th>Loan_Status</th>\n",
       "      <th>LoanAmountCats</th>\n",
       "    </tr>\n",
       "  </thead>\n",
       "  <tbody>\n",
       "    <tr>\n",
       "      <th>count</th>\n",
       "      <td>203.000000</td>\n",
       "      <td>203.0</td>\n",
       "      <td>203.000000</td>\n",
       "      <td>203.00000</td>\n",
       "      <td>203.000000</td>\n",
       "      <td>203.000000</td>\n",
       "      <td>203.000000</td>\n",
       "      <td>203.000000</td>\n",
       "    </tr>\n",
       "    <tr>\n",
       "      <th>mean</th>\n",
       "      <td>0.615764</td>\n",
       "      <td>0.0</td>\n",
       "      <td>0.788177</td>\n",
       "      <td>4968.20197</td>\n",
       "      <td>1363.054187</td>\n",
       "      <td>128.413793</td>\n",
       "      <td>0.635468</td>\n",
       "      <td>22.162562</td>\n",
       "    </tr>\n",
       "    <tr>\n",
       "      <th>std</th>\n",
       "      <td>0.487617</td>\n",
       "      <td>0.0</td>\n",
       "      <td>0.409610</td>\n",
       "      <td>4071.11102</td>\n",
       "      <td>4188.758004</td>\n",
       "      <td>73.973880</td>\n",
       "      <td>0.482489</td>\n",
       "      <td>16.674762</td>\n",
       "    </tr>\n",
       "    <tr>\n",
       "      <th>min</th>\n",
       "      <td>0.000000</td>\n",
       "      <td>0.0</td>\n",
       "      <td>0.000000</td>\n",
       "      <td>416.00000</td>\n",
       "      <td>0.000000</td>\n",
       "      <td>9.000000</td>\n",
       "      <td>0.000000</td>\n",
       "      <td>1.000000</td>\n",
       "    </tr>\n",
       "    <tr>\n",
       "      <th>25%</th>\n",
       "      <td>0.000000</td>\n",
       "      <td>0.0</td>\n",
       "      <td>1.000000</td>\n",
       "      <td>2908.50000</td>\n",
       "      <td>0.000000</td>\n",
       "      <td>86.000000</td>\n",
       "      <td>0.000000</td>\n",
       "      <td>10.000000</td>\n",
       "    </tr>\n",
       "    <tr>\n",
       "      <th>50%</th>\n",
       "      <td>1.000000</td>\n",
       "      <td>0.0</td>\n",
       "      <td>1.000000</td>\n",
       "      <td>3750.00000</td>\n",
       "      <td>0.000000</td>\n",
       "      <td>116.000000</td>\n",
       "      <td>1.000000</td>\n",
       "      <td>17.000000</td>\n",
       "    </tr>\n",
       "    <tr>\n",
       "      <th>75%</th>\n",
       "      <td>1.000000</td>\n",
       "      <td>0.0</td>\n",
       "      <td>1.000000</td>\n",
       "      <td>5253.50000</td>\n",
       "      <td>1796.500000</td>\n",
       "      <td>144.500000</td>\n",
       "      <td>1.000000</td>\n",
       "      <td>34.000000</td>\n",
       "    </tr>\n",
       "    <tr>\n",
       "      <th>max</th>\n",
       "      <td>1.000000</td>\n",
       "      <td>0.0</td>\n",
       "      <td>1.000000</td>\n",
       "      <td>37719.00000</td>\n",
       "      <td>41667.000000</td>\n",
       "      <td>650.000000</td>\n",
       "      <td>1.000000</td>\n",
       "      <td>75.000000</td>\n",
       "    </tr>\n",
       "  </tbody>\n",
       "</table>\n",
       "</div>"
      ],
      "text/plain": [
       "           Gender  Married   Education  ApplicantIncome  CoapplicantIncome  \\\n",
       "count  203.000000    203.0  203.000000        203.00000         203.000000   \n",
       "mean     0.615764      0.0    0.788177       4968.20197        1363.054187   \n",
       "std      0.487617      0.0    0.409610       4071.11102        4188.758004   \n",
       "min      0.000000      0.0    0.000000        416.00000           0.000000   \n",
       "25%      0.000000      0.0    1.000000       2908.50000           0.000000   \n",
       "50%      1.000000      0.0    1.000000       3750.00000           0.000000   \n",
       "75%      1.000000      0.0    1.000000       5253.50000        1796.500000   \n",
       "max      1.000000      0.0    1.000000      37719.00000       41667.000000   \n",
       "\n",
       "       LoanAmount  Loan_Status  LoanAmountCats  \n",
       "count  203.000000   203.000000      203.000000  \n",
       "mean   128.413793     0.635468       22.162562  \n",
       "std     73.973880     0.482489       16.674762  \n",
       "min      9.000000     0.000000        1.000000  \n",
       "25%     86.000000     0.000000       10.000000  \n",
       "50%    116.000000     1.000000       17.000000  \n",
       "75%    144.500000     1.000000       34.000000  \n",
       "max    650.000000     1.000000       75.000000  "
      ]
     },
     "execution_count": 19,
     "metadata": {},
     "output_type": "execute_result"
    }
   ],
   "source": [
    "df_single.describe()"
   ]
  },
  {
   "cell_type": "code",
   "execution_count": 20,
   "id": "03a95250",
   "metadata": {},
   "outputs": [
    {
     "data": {
      "text/html": [
       "<div>\n",
       "<style scoped>\n",
       "    .dataframe tbody tr th:only-of-type {\n",
       "        vertical-align: middle;\n",
       "    }\n",
       "\n",
       "    .dataframe tbody tr th {\n",
       "        vertical-align: top;\n",
       "    }\n",
       "\n",
       "    .dataframe thead th {\n",
       "        text-align: right;\n",
       "    }\n",
       "</style>\n",
       "<table border=\"1\" class=\"dataframe\">\n",
       "  <thead>\n",
       "    <tr style=\"text-align: right;\">\n",
       "      <th></th>\n",
       "      <th>Loan_ID</th>\n",
       "      <th>Gender</th>\n",
       "      <th>Married</th>\n",
       "      <th>Education</th>\n",
       "      <th>ApplicantIncome</th>\n",
       "      <th>CoapplicantIncome</th>\n",
       "      <th>LoanAmount</th>\n",
       "      <th>Loan_Status</th>\n",
       "      <th>LoanAmountCats</th>\n",
       "    </tr>\n",
       "  </thead>\n",
       "  <tbody>\n",
       "    <tr>\n",
       "      <th>1</th>\n",
       "      <td>LP001003</td>\n",
       "      <td>1</td>\n",
       "      <td>1</td>\n",
       "      <td>1</td>\n",
       "      <td>4583</td>\n",
       "      <td>1508.0</td>\n",
       "      <td>128.0</td>\n",
       "      <td>0</td>\n",
       "      <td>1</td>\n",
       "    </tr>\n",
       "    <tr>\n",
       "      <th>2</th>\n",
       "      <td>LP001005</td>\n",
       "      <td>1</td>\n",
       "      <td>1</td>\n",
       "      <td>1</td>\n",
       "      <td>3000</td>\n",
       "      <td>0.0</td>\n",
       "      <td>66.0</td>\n",
       "      <td>1</td>\n",
       "      <td>2</td>\n",
       "    </tr>\n",
       "    <tr>\n",
       "      <th>3</th>\n",
       "      <td>LP001006</td>\n",
       "      <td>1</td>\n",
       "      <td>1</td>\n",
       "      <td>0</td>\n",
       "      <td>2583</td>\n",
       "      <td>2358.0</td>\n",
       "      <td>120.0</td>\n",
       "      <td>1</td>\n",
       "      <td>3</td>\n",
       "    </tr>\n",
       "    <tr>\n",
       "      <th>5</th>\n",
       "      <td>LP001011</td>\n",
       "      <td>1</td>\n",
       "      <td>1</td>\n",
       "      <td>1</td>\n",
       "      <td>5417</td>\n",
       "      <td>4196.0</td>\n",
       "      <td>267.0</td>\n",
       "      <td>1</td>\n",
       "      <td>5</td>\n",
       "    </tr>\n",
       "    <tr>\n",
       "      <th>6</th>\n",
       "      <td>LP001013</td>\n",
       "      <td>1</td>\n",
       "      <td>1</td>\n",
       "      <td>0</td>\n",
       "      <td>2333</td>\n",
       "      <td>1516.0</td>\n",
       "      <td>95.0</td>\n",
       "      <td>1</td>\n",
       "      <td>6</td>\n",
       "    </tr>\n",
       "  </tbody>\n",
       "</table>\n",
       "</div>"
      ],
      "text/plain": [
       "    Loan_ID  Gender  Married  Education  ApplicantIncome  CoapplicantIncome  \\\n",
       "1  LP001003       1        1          1             4583             1508.0   \n",
       "2  LP001005       1        1          1             3000                0.0   \n",
       "3  LP001006       1        1          0             2583             2358.0   \n",
       "5  LP001011       1        1          1             5417             4196.0   \n",
       "6  LP001013       1        1          0             2333             1516.0   \n",
       "\n",
       "   LoanAmount  Loan_Status  LoanAmountCats  \n",
       "1       128.0            0               1  \n",
       "2        66.0            1               2  \n",
       "3       120.0            1               3  \n",
       "5       267.0            1               5  \n",
       "6        95.0            1               6  "
      ]
     },
     "execution_count": 20,
     "metadata": {},
     "output_type": "execute_result"
    }
   ],
   "source": [
    "df_married.head()"
   ]
  },
  {
   "cell_type": "code",
   "execution_count": 21,
   "id": "a766828e",
   "metadata": {},
   "outputs": [
    {
     "data": {
      "text/html": [
       "<div>\n",
       "<style scoped>\n",
       "    .dataframe tbody tr th:only-of-type {\n",
       "        vertical-align: middle;\n",
       "    }\n",
       "\n",
       "    .dataframe tbody tr th {\n",
       "        vertical-align: top;\n",
       "    }\n",
       "\n",
       "    .dataframe thead th {\n",
       "        text-align: right;\n",
       "    }\n",
       "</style>\n",
       "<table border=\"1\" class=\"dataframe\">\n",
       "  <thead>\n",
       "    <tr style=\"text-align: right;\">\n",
       "      <th></th>\n",
       "      <th>Loan_ID</th>\n",
       "      <th>Gender</th>\n",
       "      <th>Married</th>\n",
       "      <th>Education</th>\n",
       "      <th>ApplicantIncome</th>\n",
       "      <th>CoapplicantIncome</th>\n",
       "      <th>LoanAmount</th>\n",
       "      <th>Loan_Status</th>\n",
       "      <th>LoanAmountCats</th>\n",
       "    </tr>\n",
       "  </thead>\n",
       "  <tbody>\n",
       "    <tr>\n",
       "      <th>4</th>\n",
       "      <td>LP001008</td>\n",
       "      <td>1</td>\n",
       "      <td>0</td>\n",
       "      <td>1</td>\n",
       "      <td>6000</td>\n",
       "      <td>0.0</td>\n",
       "      <td>141.0</td>\n",
       "      <td>1</td>\n",
       "      <td>4</td>\n",
       "    </tr>\n",
       "    <tr>\n",
       "      <th>13</th>\n",
       "      <td>LP001029</td>\n",
       "      <td>1</td>\n",
       "      <td>0</td>\n",
       "      <td>1</td>\n",
       "      <td>1853</td>\n",
       "      <td>2840.0</td>\n",
       "      <td>114.0</td>\n",
       "      <td>0</td>\n",
       "      <td>12</td>\n",
       "    </tr>\n",
       "    <tr>\n",
       "      <th>15</th>\n",
       "      <td>LP001032</td>\n",
       "      <td>1</td>\n",
       "      <td>0</td>\n",
       "      <td>1</td>\n",
       "      <td>4950</td>\n",
       "      <td>0.0</td>\n",
       "      <td>125.0</td>\n",
       "      <td>1</td>\n",
       "      <td>14</td>\n",
       "    </tr>\n",
       "    <tr>\n",
       "      <th>16</th>\n",
       "      <td>LP001034</td>\n",
       "      <td>1</td>\n",
       "      <td>0</td>\n",
       "      <td>0</td>\n",
       "      <td>3596</td>\n",
       "      <td>0.0</td>\n",
       "      <td>100.0</td>\n",
       "      <td>1</td>\n",
       "      <td>15</td>\n",
       "    </tr>\n",
       "    <tr>\n",
       "      <th>17</th>\n",
       "      <td>LP001036</td>\n",
       "      <td>0</td>\n",
       "      <td>0</td>\n",
       "      <td>1</td>\n",
       "      <td>3510</td>\n",
       "      <td>0.0</td>\n",
       "      <td>76.0</td>\n",
       "      <td>0</td>\n",
       "      <td>16</td>\n",
       "    </tr>\n",
       "  </tbody>\n",
       "</table>\n",
       "</div>"
      ],
      "text/plain": [
       "     Loan_ID  Gender  Married  Education  ApplicantIncome  CoapplicantIncome  \\\n",
       "4   LP001008       1        0          1             6000                0.0   \n",
       "13  LP001029       1        0          1             1853             2840.0   \n",
       "15  LP001032       1        0          1             4950                0.0   \n",
       "16  LP001034       1        0          0             3596                0.0   \n",
       "17  LP001036       0        0          1             3510                0.0   \n",
       "\n",
       "    LoanAmount  Loan_Status  LoanAmountCats  \n",
       "4        141.0            1               4  \n",
       "13       114.0            0              12  \n",
       "15       125.0            1              14  \n",
       "16       100.0            1              15  \n",
       "17        76.0            0              16  "
      ]
     },
     "execution_count": 21,
     "metadata": {},
     "output_type": "execute_result"
    }
   ],
   "source": [
    "df_single.head()"
   ]
  },
  {
   "cell_type": "markdown",
   "id": "950c3d14",
   "metadata": {},
   "source": [
    "### Pmf:"
   ]
  },
  {
   "cell_type": "code",
   "execution_count": 22,
   "id": "0fcf85fb",
   "metadata": {},
   "outputs": [
    {
     "data": {
      "image/png": "[encoded data removed]",
      "text/plain": [
       "<Figure size 432x288 with 1 Axes>"
      ]
     },
     "metadata": {
      "needs_background": "light"
     },
     "output_type": "display_data"
    }
   ],
   "source": [
    "pmf_married = thinkstats2.Pmf(df_married.LoanAmountCats, label=\"Married\") \n",
    "thinkplot.Pmf(pmf_married) \n",
    "\n",
    "# As seen befor on histogram the probablity of appling for low LoanAmount is higher than high Loan Amount\n",
    "# for married applicants"
   ]
  },
  {
   "cell_type": "code",
   "execution_count": 23,
   "id": "f2e21e6f",
   "metadata": {},
   "outputs": [
    {
     "data": {
      "image/png": "[encoded data removed]",
      "text/plain": [
       "<Figure size 432x288 with 1 Axes>"
      ]
     },
     "metadata": {
      "needs_background": "light"
     },
     "output_type": "display_data"
    }
   ],
   "source": [
    "pmf_single = thinkstats2.Pmf(df_single.LoanAmountCats, label=\"Single\") \n",
    "thinkplot.Pmf(pmf_single) \n",
    "\n",
    "# As seen befor on histogram the probablity of appling for low LoanAmount is higher than high Loan Amount\n",
    "# for single applicants"
   ]
  },
  {
   "cell_type": "markdown",
   "id": "aa4c1c06",
   "metadata": {},
   "source": [
    "#### Pmf Interpretation: \n",
    "It seems married applicants tend to apply for higher amount of loans"
   ]
  },
  {
   "cell_type": "code",
   "execution_count": 24,
   "id": "95b071a5",
   "metadata": {},
   "outputs": [
    {
     "data": {
      "image/png": "[encoded data removed]",
      "text/plain": [
       "<Figure size 432x288 with 1 Axes>"
      ]
     },
     "metadata": {
      "needs_background": "light"
     },
     "output_type": "display_data"
    }
   ],
   "source": [
    "thinkplot.PrePlot(2)\n",
    "thinkplot.Pmfs([pmf_married, pmf_single])\n",
    "thinkplot.Config(xlabel=\"LoanAmountCats\", ylabel=\"PMF\")"
   ]
  },
  {
   "cell_type": "markdown",
   "id": "c31d6f8a",
   "metadata": {},
   "source": [
    "### Cdf:\n"
   ]
  },
  {
   "cell_type": "code",
   "execution_count": 25,
   "id": "0471a6d7",
   "metadata": {},
   "outputs": [
    {
     "data": {
      "image/png": "[encoded data removed]",
      "text/plain": [
       "<Figure size 432x288 with 1 Axes>"
      ]
     },
     "metadata": {
      "needs_background": "light"
     },
     "output_type": "display_data"
    }
   ],
   "source": [
    "cdf_married = thinkstats2.Cdf(df_married.LoanAmountCats, label='Married LoanAmoun')\n",
    "thinkplot.Cdf(cdf_married)\n",
    "thinkplot.Config(xlabel='Married Loan Amount Categories', ylabel='CDF', loc='upper left')\n",
    "\n",
    "# Sharp increase between 0 to 20 (upto $100) is being observed for married applicants\n",
    "# almost 55% of married applicats have applied a LoanAmount less than $100"
   ]
  },
  {
   "cell_type": "code",
   "execution_count": 26,
   "id": "72e41efa",
   "metadata": {},
   "outputs": [
    {
     "data": {
      "image/png": "[encoded data removed]",
      "text/plain": [
       "<Figure size 432x288 with 1 Axes>"
      ]
     },
     "metadata": {
      "needs_background": "light"
     },
     "output_type": "display_data"
    }
   ],
   "source": [
    "cdf_single = thinkstats2.Cdf(df_single.LoanAmountCats, label='Single LoanAmoun')\n",
    "thinkplot.Cdf(cdf_single)\n",
    "thinkplot.Config(xlabel='Single Loan Amount Categories', ylabel='CDF', loc='upper left')\n",
    "\n",
    "# The slop of CMF for singles as copmared to married applicants seems to be sharper.\n",
    "# 60% of applicants have applied for a LoanAmount less than $100"
   ]
  },
  {
   "cell_type": "markdown",
   "id": "20812e55",
   "metadata": {},
   "source": [
    "#### Cdf Interpretation:\n",
    "We can see that singles are slightly tend to apply for low amount of Loans in some areas but not constantly.\n",
    "60% of singles have applied for a LoanAmount of less than $100 whereas only 55\\% of married applied.\n",
    "\n",
    "Areas between 20 and 35 clearly illustrates this differences"
   ]
  },
  {
   "cell_type": "code",
   "execution_count": 27,
   "id": "1875528b",
   "metadata": {},
   "outputs": [
    {
     "data": {
      "image/png": "[encoded data removed]",
      "text/plain": [
       "<Figure size 432x288 with 1 Axes>"
      ]
     },
     "metadata": {
      "needs_background": "light"
     },
     "output_type": "display_data"
    }
   ],
   "source": [
    "thinkplot.PrePlot(2)\n",
    "thinkplot.Cdfs([cdf_married, cdf_single])\n",
    "thinkplot.Config(xlabel=\"LoanAmountCats\", ylabel=\"PMF\")"
   ]
  },
  {
   "cell_type": "markdown",
   "id": "2e0593f9",
   "metadata": {},
   "source": [
    "## Analytical Distribution\n",
    "We will examine two (Normal and Lognormal) probablity distribution to see which one is a better fit for our data.\n"
   ]
  },
  {
   "cell_type": "markdown",
   "id": "e8a81443",
   "metadata": {},
   "source": [
    "### A - Normal Probablity Distribution\n",
    "\n",
    "Provided Normal Probablity Distribution shows this distribution is not an approriare model for the this dataset:\n",
    " * 1 - Both Low & High tails deviate from the fitted line clearly.\n",
    " * 2 - Higher tail data distribution shows a non-linear behaviour\n",
    " * 3 - Arround the mean the data shows less deviation to the fitted line.\n",
    " \n",
    "##### Considering above items the Normal Probablity Distribution doesn't seem to be an appropriate model"
   ]
  },
  {
   "cell_type": "code",
   "execution_count": 28,
   "id": "7366112d",
   "metadata": {},
   "outputs": [
    {
     "data": {
      "image/png": "[encoded data removed]",
      "text/plain": [
       "<Figure size 432x288 with 1 Axes>"
      ]
     },
     "metadata": {
      "needs_background": "light"
     },
     "output_type": "display_data"
    }
   ],
   "source": [
    "LoanAmount = df['LoanAmount']\n",
    "mean, var = thinkstats2.TrimmedMeanVar(LoanAmount, p=0.01)\n",
    "std = np.sqrt(var)\n",
    "\n",
    "xs = [-3, 3]\n",
    "fxs, fys = thinkstats2.FitLine(xs, mean, std)\n",
    "thinkplot.Plot(fxs, fys, linewidth=4, color=\"0.8\")\n",
    "\n",
    "xs, ys = thinkstats2.NormalProbability(LoanAmount)\n",
    "thinkplot.Plot(xs, ys, label=\"All LoanAmount\")\n",
    "\n",
    "thinkplot.Config(\n",
    "    title=\"Normal probability plot\",\n",
    "    xlabel=\"Standard deviations from mean\",\n",
    "    ylabel=\"LoanAmount ($)\",)"
   ]
  },
  {
   "cell_type": "code",
   "execution_count": 29,
   "id": "401d88f5",
   "metadata": {},
   "outputs": [],
   "source": [
    "def MakeNormalModel(LoanAmount):\n",
    "    \"\"\"Plots a CDF with a Normal model.\n",
    "\n",
    "    LoanAmount: sequence\n",
    "    \"\"\"\n",
    "    cdf = thinkstats2.Cdf(LoanAmount, label=\"LoanAmount\")\n",
    "\n",
    "    mean, var = thinkstats2.TrimmedMeanVar(LoanAmount)\n",
    "    std = np.sqrt(var)\n",
    "    print(\"n, mean, std\", len(LoanAmount), mean, std)\n",
    "\n",
    "    xmin = mean - 4 * std\n",
    "    xmax = mean + 4 * std\n",
    "\n",
    "    xs, ps = thinkstats2.RenderNormalCdf(mean, std, xmin, xmax)\n",
    "    thinkplot.Plot(xs, ps, label=\"model\", linewidth=4, color=\"0.8\")\n",
    "    thinkplot.Cdf(cdf)"
   ]
  },
  {
   "cell_type": "code",
   "execution_count": 30,
   "id": "6e6cbfe1",
   "metadata": {},
   "outputs": [
    {
     "name": "stdout",
     "output_type": "stream",
     "text": [
      "n, mean, std 577 142.1957671957672 71.29199798569516\n"
     ]
    },
    {
     "data": {
      "image/png": "[encoded data removed]",
      "text/plain": [
       "<Figure size 432x288 with 1 Axes>"
      ]
     },
     "metadata": {
      "needs_background": "light"
     },
     "output_type": "display_data"
    }
   ],
   "source": [
    "MakeNormalModel(LoanAmount)\n",
    "thinkplot.Config(\n",
    "    title = \"Loan Amount on linear scale\",\n",
    "    xlabel = \"Loan Amount ($)\",\n",
    "    ylabel = \"CDF\",\n",
    "    loc = \"upper left\",)"
   ]
  },
  {
   "cell_type": "markdown",
   "id": "3e5815e1",
   "metadata": {},
   "source": [
    "### B - Lognormal Probablity Distribution\n",
    "\n",
    "* Eventhough there are some minor devaiation between the model and our data, the Lognormal model seems to be a better fit for\n",
    "  our data as compared to the Normal Probablity ."
   ]
  },
  {
   "cell_type": "code",
   "execution_count": 31,
   "id": "e6c382d9",
   "metadata": {},
   "outputs": [
    {
     "name": "stdout",
     "output_type": "stream",
     "text": [
      "n, mean, std 577 2.1078803290157224 0.1956002437720298\n"
     ]
    },
    {
     "data": {
      "image/png": "[encoded data removed]",
      "text/plain": [
       "<Figure size 432x288 with 1 Axes>"
      ]
     },
     "metadata": {
      "needs_background": "light"
     },
     "output_type": "display_data"
    }
   ],
   "source": [
    "log_LoanAmount = np.log10(LoanAmount)\n",
    "MakeNormalModel(log_LoanAmount)\n",
    "thinkplot.Config( title=\"Loan Amount on log scale\",\n",
    "                  xlabel=\"Loan Amount ($)\", ylabel=\"CDF\",)"
   ]
  },
  {
   "cell_type": "markdown",
   "id": "eee4bdb9",
   "metadata": {},
   "source": [
    "## Correlation\n",
    "   In this section we will try to find the relationship between the applicant's income and the applied loan amount.\n",
    "   First we will examine the Covariance, then Pearson’s correlation and Non-Linear Relationships between them.\n",
    " "
   ]
  },
  {
   "cell_type": "markdown",
   "id": "7a61304a",
   "metadata": {},
   "source": [
    "### Covariance\n",
    "\n",
    " * Following shows there is a positive correlation between the Applicant's Income and the applied Loan Amounts. It means\n",
    "  The more Income the more Loan Amount was required by the applicants. However it is hard to intrepret the Cov value."
   ]
  },
  {
   "cell_type": "code",
   "execution_count": 32,
   "id": "9eeda039",
   "metadata": {},
   "outputs": [],
   "source": [
    "def Cov(xs, ys, meanx=None, meany=None):\n",
    "    xs = np.asarray(xs)\n",
    "    ys = np.asarray(ys)\n",
    "\n",
    "    if meanx is None:\n",
    "        meanx = np.mean(xs)\n",
    "    if meany is None:\n",
    "        meany = np.mean(ys)\n",
    "\n",
    "    cov = np.dot(xs-meanx, ys-meany) / len(xs)\n",
    "    return cov"
   ]
  },
  {
   "cell_type": "code",
   "execution_count": 33,
   "id": "dfb9496b",
   "metadata": {},
   "outputs": [
    {
     "name": "stdout",
     "output_type": "stream",
     "text": [
      "ApplicantIncome Covariance with LoanAmount: \n",
      "Married: 306663.15\n",
      "Single: 154556.86\n",
      "Total: 256104.72\n"
     ]
    }
   ],
   "source": [
    "# Correlation for married applicants\n",
    "ApplicantIncome, LoanAmount = df_married.ApplicantIncome, df_married.LoanAmount\n",
    "married_cov = Cov(ApplicantIncome, LoanAmount)\n",
    "\n",
    "# Correlation for married applicants\n",
    "ApplicantIncome, LoanAmount = df_single.ApplicantIncome, df_single.LoanAmount\n",
    "single_cov = Cov(ApplicantIncome, LoanAmount)\n",
    "\n",
    "ApplicantIncome, LoanAmount = df.ApplicantIncome, df.LoanAmount\n",
    "overall_cov = Cov(ApplicantIncome, LoanAmount)\n",
    "\n",
    "print('ApplicantIncome Covariance with LoanAmount: ')\n",
    "print(f'Married: {round(married_cov,2)}')\n",
    "print(f'Single: {round(single_cov,2)}')\n",
    "print(f'Total: {round(overall_cov,2)}')"
   ]
  },
  {
   "cell_type": "markdown",
   "id": "7c54e049",
   "metadata": {},
   "source": [
    "### Pearson’s correlation\n",
    "\n",
    "The Pearson’s correlation is only for linear relationships and varies between -1/+1. Positive 0.53 shows a strong correlation between these two variables. It shows  high income applicants tend to apply for higher loan amounts."
   ]
  },
  {
   "cell_type": "code",
   "execution_count": 34,
   "id": "4a1295e5",
   "metadata": {},
   "outputs": [],
   "source": [
    "def Corr(xs, ys):\n",
    "    xs = np.asarray(xs)\n",
    "    ys = np.asarray(ys)\n",
    "\n",
    "    meanx, varx = thinkstats2.MeanVar(xs)\n",
    "    meany, vary = thinkstats2.MeanVar(ys)\n",
    "\n",
    "    corr = Cov(xs, ys, meanx, meany) / np.sqrt(varx * vary)\n",
    "    return corr"
   ]
  },
  {
   "cell_type": "code",
   "execution_count": 35,
   "id": "e568db9d",
   "metadata": {},
   "outputs": [
    {
     "name": "stdout",
     "output_type": "stream",
     "text": [
      "ApplicantIncome Correlation with LoanAmount:\n",
      "Married: 0.54\n",
      "Single: 0.52\n",
      "Total: 0.53\n"
     ]
    }
   ],
   "source": [
    "# Correlation for married applicants\n",
    "ApplicantIncome, LoanAmount = df_married.ApplicantIncome, df_married.LoanAmount\n",
    "married_corr = Corr(ApplicantIncome, LoanAmount)\n",
    "\n",
    "# Correlation for married applicants\n",
    "ApplicantIncome, LoanAmount = df_single.ApplicantIncome, df_single.LoanAmount\n",
    "single_corr = Corr(ApplicantIncome, LoanAmount)\n",
    "\n",
    "ApplicantIncome, LoanAmount = df.ApplicantIncome, df.LoanAmount\n",
    "overall_corr = Corr(ApplicantIncome, LoanAmount)\n",
    "\n",
    "print('ApplicantIncome Correlation with LoanAmount:')\n",
    "print(f'Married: {round(married_corr,2)}')\n",
    "print(f'Single: {round(single_corr,2)}')\n",
    "print(f'Total: {round(overall_corr,2)}')"
   ]
  },
  {
   "cell_type": "markdown",
   "id": "9962e510",
   "metadata": {},
   "source": [
    "### Non-Linear Relationships\n",
    "\n",
    "#### Expected Correlation between LoanAmountCats and ApplicantIncome:\n",
    "\n",
    "We are expecting a positive correlation betweeb these variables meaning that normally high income applicants apply for a higher amount of loans.\n",
    "\n",
    "Considering the scatter plot of LoanAmountCats and ApplicantIncome, we can say Pearson’s correlation (0.53) is valid as it not falling in any of non-linear relationshiop categories"
   ]
  },
  {
   "cell_type": "code",
   "execution_count": 36,
   "id": "2b4162be",
   "metadata": {},
   "outputs": [
    {
     "data": {
      "image/png": "[encoded data removed]",
      "text/plain": [
       "<Figure size 432x288 with 1 Axes>"
      ]
     },
     "metadata": {
      "needs_background": "light"
     },
     "output_type": "display_data"
    }
   ],
   "source": [
    "LoanAmountCats = df.LoanAmountCats\n",
    "thinkplot.Scatter(LoanAmountCats, ApplicantIncome, alpha=0.99, s=2)\n",
    "thinkplot.Config(xlabel='Loan Cats', ylabel='Income $',legend=False)"
   ]
  },
  {
   "cell_type": "markdown",
   "id": "37f65e9e",
   "metadata": {},
   "source": [
    "#### Expected Correlation between LoanAmountCats and CoapplicantIncome:\n",
    "\n",
    "We are expecting positive correlation betweeb these variables meaning that higher loan amont needs high income co-applicant income.\n",
    "\n",
    "Considering the scatter plot of LoanAmountCats and CoapplicantIncome, we can say Pearson’s correlation (0.20) is valid and there is a weak correlation between these two variables."
   ]
  },
  {
   "cell_type": "code",
   "execution_count": 37,
   "id": "acbca20c",
   "metadata": {},
   "outputs": [
    {
     "data": {
      "image/png": "[encoded data removed]",
      "text/plain": [
       "<Figure size 432x288 with 1 Axes>"
      ]
     },
     "metadata": {
      "needs_background": "light"
     },
     "output_type": "display_data"
    }
   ],
   "source": [
    "LoanAmountCats = df.LoanAmountCats\n",
    "CoapplicantIncome = df.CoapplicantIncome\n",
    "thinkplot.Scatter(LoanAmountCats, CoapplicantIncome, alpha=0.99, s=2)\n",
    "thinkplot.Config(xlabel='Loan Cats', ylabel='$ CoApplicantIncome',legend=False)"
   ]
  },
  {
   "cell_type": "code",
   "execution_count": 38,
   "id": "620b91a5",
   "metadata": {},
   "outputs": [
    {
     "data": {
      "text/plain": [
       "0.20704463348373411"
      ]
     },
     "execution_count": 38,
     "metadata": {},
     "output_type": "execute_result"
    }
   ],
   "source": [
    "Corr(CoapplicantIncome, LoanAmount)"
   ]
  },
  {
   "cell_type": "markdown",
   "id": "af102b19",
   "metadata": {},
   "source": [
    "## Hypothesis Testing\n",
    "\n",
    "* First Hypothesis: The distribution of Loan Amount for both Single and Marrid are same\n",
    "* Second Hypothesis: The distribution of Loan Amount for single applicants are tend to be less than married applicants.\n",
    "\n",
    "### First hypothesis:\n",
    "The p-value is about 39%, which means it is plausible that the observed difference is just the result of random sampling, and might not be generally true in the population."
   ]
  },
  {
   "cell_type": "code",
   "execution_count": 39,
   "id": "13905c18",
   "metadata": {},
   "outputs": [],
   "source": [
    "class DiffMeansPermute(thinkstats2.HypothesisTest):\n",
    "\n",
    "    def TestStatistic(self, data):\n",
    "        group1, group2 = data\n",
    "        test_stat = abs(group1.mean() - group2.mean())\n",
    "        return test_stat\n",
    "\n",
    "    def MakeModel(self):\n",
    "        group1, group2 = self.data\n",
    "        self.n, self.m = len(group1), len(group2)\n",
    "        self.pool = np.hstack((group1, group2))\n",
    "\n",
    "    def RunModel(self):\n",
    "        np.random.shuffle(self.pool)\n",
    "        data = self.pool[:self.n], self.pool[self.n:]\n",
    "        return data\n",
    "#------------------------------------------------------------------------------------    \n",
    "    \n",
    "class DiffMeansOneSided(DiffMeansPermute):\n",
    "\n",
    "    def TestStatistic(self, data):\n",
    "        group1, group2 = data\n",
    "        test_stat = group1.mean() - group2.mean()\n",
    "        return test_stat\n",
    "#------------------------------------------------------------------------------------     \n",
    "\n",
    "class CorrelationPermute(thinkstats2.HypothesisTest):\n",
    "\n",
    "    def TestStatistic(self, data):\n",
    "        xs, ys = data\n",
    "        test_stat = abs(thinkstats2.Corr(xs, ys))\n",
    "        return test_stat\n",
    "\n",
    "    def RunModel(self):\n",
    "        xs, ys = self.data\n",
    "        xs = np.random.permutation(xs)\n",
    "        return xs, ys"
   ]
  },
  {
   "cell_type": "code",
   "execution_count": 40,
   "id": "e893e49f",
   "metadata": {},
   "outputs": [
    {
     "data": {
      "text/plain": [
       "0.404"
      ]
     },
     "execution_count": 40,
     "metadata": {},
     "output_type": "execute_result"
    }
   ],
   "source": [
    "data = df_single.LoanAmountCats.values, df_married.LoanAmountCats.values\n",
    "ht = DiffMeansPermute(data)\n",
    "pvalue = ht.PValue()\n",
    "pvalue"
   ]
  },
  {
   "cell_type": "markdown",
   "id": "5a384dd5",
   "metadata": {},
   "source": [
    "Under the null hypothesis, we often see differences bigger than the observed difference"
   ]
  },
  {
   "cell_type": "code",
   "execution_count": 41,
   "id": "cf964e56",
   "metadata": {},
   "outputs": [
    {
     "data": {
      "image/png": "[encoded data removed]",
      "text/plain": [
       "<Figure size 432x288 with 1 Axes>"
      ]
     },
     "metadata": {
      "needs_background": "light"
     },
     "output_type": "display_data"
    }
   ],
   "source": [
    "ht.PlotCdf()\n",
    "thinkplot.Config(xlabel='test statistic', ylabel='CDF')"
   ]
  },
  {
   "cell_type": "markdown",
   "id": "2d8823fa",
   "metadata": {},
   "source": [
    "### Second hypothesis:\n",
    "\n",
    "The hypothesis under test is that single applicants tend to apply for low loan amounts, the appropriate test statistic is the raw difference between single applications and marrieds, rather than the absolute value of the difference.\n",
    "#####  in this example, the result is still not statistically significant. p-value ~ 0.80"
   ]
  },
  {
   "cell_type": "code",
   "execution_count": 42,
   "id": "8cae747d",
   "metadata": {},
   "outputs": [
    {
     "data": {
      "text/plain": [
       "0.8"
      ]
     },
     "execution_count": 42,
     "metadata": {},
     "output_type": "execute_result"
    }
   ],
   "source": [
    "ht = DiffMeansOneSided(data)\n",
    "pvalue = ht.PValue()\n",
    "pvalue"
   ]
  },
  {
   "cell_type": "markdown",
   "id": "b8e720b5",
   "metadata": {},
   "source": [
    "### Testing correlation:\n",
    "\n",
    "The reported p-value is 0, which means that in 1000 trials we didn't see a correlation, under the null hypothesis, that exceeded the observed correlation. That means that the p-value is probably smaller than 0.001 \n",
    ", but it is not actually 0.\n"
   ]
  },
  {
   "cell_type": "code",
   "execution_count": 43,
   "id": "16efb383",
   "metadata": {},
   "outputs": [],
   "source": [
    "class CorrelationPermute(thinkstats2.HypothesisTest):\n",
    "\n",
    "    def TestStatistic(self, data):\n",
    "        xs, ys = data\n",
    "        test_stat = abs(thinkstats2.Corr(xs, ys))\n",
    "        return test_stat\n",
    "\n",
    "    def RunModel(self):\n",
    "        xs, ys = self.data\n",
    "        xs = np.random.permutation(xs)\n",
    "        return xs, ys"
   ]
  },
  {
   "cell_type": "code",
   "execution_count": 44,
   "id": "80a66673",
   "metadata": {},
   "outputs": [
    {
     "data": {
      "text/plain": [
       "0.0"
      ]
     },
     "execution_count": 44,
     "metadata": {},
     "output_type": "execute_result"
    }
   ],
   "source": [
    "cleaned = df.dropna(subset=['Married', 'LoanAmountCats'])\n",
    "data = cleaned.LoanAmountCats.values, cleaned.LoanAmountCats.values\n",
    "ht = CorrelationPermute(data)\n",
    "pvalue = ht.PValue()\n",
    "pvalue"
   ]
  },
  {
   "cell_type": "markdown",
   "id": "763be1ae",
   "metadata": {},
   "source": [
    "## Regression Analysis\n",
    "\n",
    "Using multinomial logistic regression and applying it to categorical variable maximum 58% accuracy is achieved.\n"
   ]
  },
  {
   "cell_type": "code",
   "execution_count": 45,
   "id": "7465f0cd",
   "metadata": {},
   "outputs": [
    {
     "name": "stdout",
     "output_type": "stream",
     "text": [
      "Loan Mean Diff: $ 25.5 \n",
      "Income Mean Diff: $ 507.4\n"
     ]
    }
   ],
   "source": [
    "# Mean od applied Loan Amount for married applicants is $ 25.5 more than single applicants\n",
    "diff_Loan = df_married.LoanAmount.mean() - df_single.LoanAmount.mean()\n",
    "diff_Income = df_married.ApplicantIncome.mean() - df_single.ApplicantIncome.mean()\n",
    "\n",
    "print(f'Loan Mean Diff: $ {round(diff_Loan,1)}', f'\\nIncome Mean Diff: $ {round(diff_Income,1)}')"
   ]
  },
  {
   "cell_type": "code",
   "execution_count": 46,
   "id": "3581e5b6",
   "metadata": {},
   "outputs": [
    {
     "data": {
      "text/html": [
       "<div>\n",
       "<style scoped>\n",
       "    .dataframe tbody tr th:only-of-type {\n",
       "        vertical-align: middle;\n",
       "    }\n",
       "\n",
       "    .dataframe tbody tr th {\n",
       "        vertical-align: top;\n",
       "    }\n",
       "\n",
       "    .dataframe thead th {\n",
       "        text-align: right;\n",
       "    }\n",
       "</style>\n",
       "<table border=\"1\" class=\"dataframe\">\n",
       "  <thead>\n",
       "    <tr style=\"text-align: right;\">\n",
       "      <th></th>\n",
       "      <th>Loan_ID</th>\n",
       "      <th>Gender</th>\n",
       "      <th>Married</th>\n",
       "      <th>Education</th>\n",
       "      <th>ApplicantIncome</th>\n",
       "      <th>CoapplicantIncome</th>\n",
       "      <th>LoanAmount</th>\n",
       "      <th>Loan_Status</th>\n",
       "      <th>LoanAmountCats</th>\n",
       "    </tr>\n",
       "  </thead>\n",
       "  <tbody>\n",
       "    <tr>\n",
       "      <th>1</th>\n",
       "      <td>LP001003</td>\n",
       "      <td>True</td>\n",
       "      <td>True</td>\n",
       "      <td>True</td>\n",
       "      <td>4583</td>\n",
       "      <td>1508.0</td>\n",
       "      <td>128.0</td>\n",
       "      <td>0</td>\n",
       "      <td>1</td>\n",
       "    </tr>\n",
       "    <tr>\n",
       "      <th>2</th>\n",
       "      <td>LP001005</td>\n",
       "      <td>True</td>\n",
       "      <td>True</td>\n",
       "      <td>True</td>\n",
       "      <td>3000</td>\n",
       "      <td>0.0</td>\n",
       "      <td>66.0</td>\n",
       "      <td>1</td>\n",
       "      <td>2</td>\n",
       "    </tr>\n",
       "    <tr>\n",
       "      <th>3</th>\n",
       "      <td>LP001006</td>\n",
       "      <td>True</td>\n",
       "      <td>True</td>\n",
       "      <td>False</td>\n",
       "      <td>2583</td>\n",
       "      <td>2358.0</td>\n",
       "      <td>120.0</td>\n",
       "      <td>1</td>\n",
       "      <td>3</td>\n",
       "    </tr>\n",
       "    <tr>\n",
       "      <th>4</th>\n",
       "      <td>LP001008</td>\n",
       "      <td>True</td>\n",
       "      <td>False</td>\n",
       "      <td>True</td>\n",
       "      <td>6000</td>\n",
       "      <td>0.0</td>\n",
       "      <td>141.0</td>\n",
       "      <td>1</td>\n",
       "      <td>4</td>\n",
       "    </tr>\n",
       "    <tr>\n",
       "      <th>5</th>\n",
       "      <td>LP001011</td>\n",
       "      <td>True</td>\n",
       "      <td>True</td>\n",
       "      <td>True</td>\n",
       "      <td>5417</td>\n",
       "      <td>4196.0</td>\n",
       "      <td>267.0</td>\n",
       "      <td>1</td>\n",
       "      <td>5</td>\n",
       "    </tr>\n",
       "  </tbody>\n",
       "</table>\n",
       "</div>"
      ],
      "text/plain": [
       "    Loan_ID  Gender  Married  Education  ApplicantIncome  CoapplicantIncome  \\\n",
       "1  LP001003    True     True       True             4583             1508.0   \n",
       "2  LP001005    True     True       True             3000                0.0   \n",
       "3  LP001006    True     True      False             2583             2358.0   \n",
       "4  LP001008    True    False       True             6000                0.0   \n",
       "5  LP001011    True     True       True             5417             4196.0   \n",
       "\n",
       "   LoanAmount  Loan_Status  LoanAmountCats  \n",
       "1       128.0            0               1  \n",
       "2        66.0            1               2  \n",
       "3       120.0            1               3  \n",
       "4       141.0            1               4  \n",
       "5       267.0            1               5  "
      ]
     },
     "execution_count": 46,
     "metadata": {},
     "output_type": "execute_result"
    }
   ],
   "source": [
    "df['Gender'].replace([1, 0], [True, False], inplace=True)  # True: Graduate and False:Not Graduate\n",
    "df['Married'].replace([1, 0], [True, False], inplace=True)  # True: Graduate and False:Not Graduate\n",
    "df['Education'].replace([1, 0], [True, False], inplace=True)  # True: Graduate and False:Not Graduate\n",
    "\n",
    "df.head()"
   ]
  },
  {
   "cell_type": "code",
   "execution_count": 47,
   "id": "4c40e86e",
   "metadata": {},
   "outputs": [
    {
     "name": "stdout",
     "output_type": "stream",
     "text": [
      "Optimization terminated successfully.\n",
      "         Current function value: 0.603871\n",
      "         Iterations 5\n"
     ]
    },
    {
     "data": {
      "text/html": [
       "<table class=\"simpletable\">\n",
       "<caption>Logit Regression Results</caption>\n",
       "<tr>\n",
       "  <th>Dep. Variable:</th>      <td>Loan_Status</td>   <th>  No. Observations:  </th>  <td>   577</td> \n",
       "</tr>\n",
       "<tr>\n",
       "  <th>Model:</th>                 <td>Logit</td>      <th>  Df Residuals:      </th>  <td>   571</td> \n",
       "</tr>\n",
       "<tr>\n",
       "  <th>Method:</th>                 <td>MLE</td>       <th>  Df Model:          </th>  <td>     5</td> \n",
       "</tr>\n",
       "<tr>\n",
       "  <th>Date:</th>            <td>Sat, 04 Mar 2023</td> <th>  Pseudo R-squ.:     </th>  <td>0.01820</td>\n",
       "</tr>\n",
       "<tr>\n",
       "  <th>Time:</th>                <td>01:26:38</td>     <th>  Log-Likelihood:    </th> <td> -348.43</td>\n",
       "</tr>\n",
       "<tr>\n",
       "  <th>converged:</th>             <td>True</td>       <th>  LL-Null:           </th> <td> -354.89</td>\n",
       "</tr>\n",
       "<tr>\n",
       "  <th>Covariance Type:</th>     <td>nonrobust</td>    <th>  LLR p-value:       </th>  <td>0.02418</td>\n",
       "</tr>\n",
       "</table>\n",
       "<table class=\"simpletable\">\n",
       "<tr>\n",
       "            <td></td>              <th>coef</th>     <th>std err</th>      <th>z</th>      <th>P>|z|</th>  <th>[0.025</th>    <th>0.975]</th>  \n",
       "</tr>\n",
       "<tr>\n",
       "  <th>Intercept</th>            <td>    0.4427</td> <td>    0.242</td> <td>    1.828</td> <td> 0.068</td> <td>   -0.032</td> <td>    0.918</td>\n",
       "</tr>\n",
       "<tr>\n",
       "  <th>C(Married)[T.True]</th>   <td>    0.4723</td> <td>    0.189</td> <td>    2.494</td> <td> 0.013</td> <td>    0.101</td> <td>    0.843</td>\n",
       "</tr>\n",
       "<tr>\n",
       "  <th>C(Education)[T.True]</th> <td>    0.4424</td> <td>    0.218</td> <td>    2.025</td> <td> 0.043</td> <td>    0.014</td> <td>    0.871</td>\n",
       "</tr>\n",
       "<tr>\n",
       "  <th>ApplicantIncome</th>      <td>-1.412e-05</td> <td> 1.57e-05</td> <td>   -0.899</td> <td> 0.369</td> <td>-4.49e-05</td> <td> 1.67e-05</td>\n",
       "</tr>\n",
       "<tr>\n",
       "  <th>CoapplicantIncome</th>    <td>-5.637e-05</td> <td> 3.23e-05</td> <td>   -1.745</td> <td> 0.081</td> <td>   -0.000</td> <td> 6.96e-06</td>\n",
       "</tr>\n",
       "<tr>\n",
       "  <th>LoanAmountCats</th>       <td>   -0.0038</td> <td>    0.005</td> <td>   -0.685</td> <td> 0.493</td> <td>   -0.015</td> <td>    0.007</td>\n",
       "</tr>\n",
       "</table>"
      ],
      "text/plain": [
       "<class 'statsmodels.iolib.summary.Summary'>\n",
       "\"\"\"\n",
       "                           Logit Regression Results                           \n",
       "==============================================================================\n",
       "Dep. Variable:            Loan_Status   No. Observations:                  577\n",
       "Model:                          Logit   Df Residuals:                      571\n",
       "Method:                           MLE   Df Model:                            5\n",
       "Date:                Sat, 04 Mar 2023   Pseudo R-squ.:                 0.01820\n",
       "Time:                        01:26:38   Log-Likelihood:                -348.43\n",
       "converged:                       True   LL-Null:                       -354.89\n",
       "Covariance Type:            nonrobust   LLR p-value:                   0.02418\n",
       "========================================================================================\n",
       "                           coef    std err          z      P>|z|      [0.025      0.975]\n",
       "----------------------------------------------------------------------------------------\n",
       "Intercept                0.4427      0.242      1.828      0.068      -0.032       0.918\n",
       "C(Married)[T.True]       0.4723      0.189      2.494      0.013       0.101       0.843\n",
       "C(Education)[T.True]     0.4424      0.218      2.025      0.043       0.014       0.871\n",
       "ApplicantIncome      -1.412e-05   1.57e-05     -0.899      0.369   -4.49e-05    1.67e-05\n",
       "CoapplicantIncome    -5.637e-05   3.23e-05     -1.745      0.081      -0.000    6.96e-06\n",
       "LoanAmountCats          -0.0038      0.005     -0.685      0.493      -0.015       0.007\n",
       "========================================================================================\n",
       "\"\"\""
      ]
     },
     "execution_count": 47,
     "metadata": {},
     "output_type": "execute_result"
    }
   ],
   "source": [
    "import statsmodels.formula.api as smf\n",
    "formula='Loan_Status ~  C(Married) + C(Education) + ApplicantIncome + CoapplicantIncome + LoanAmountCats'\n",
    "model = smf.logit(formula, data=df)\n",
    "results = model.fit()\n",
    "results.summary() "
   ]
  },
  {
   "cell_type": "code",
   "execution_count": 48,
   "id": "eef16709",
   "metadata": {},
   "outputs": [
    {
     "data": {
      "text/plain": [
       "0.6949740034662045"
      ]
     },
     "execution_count": 48,
     "metadata": {},
     "output_type": "execute_result"
    }
   ],
   "source": [
    "endog = pd.DataFrame(model.endog, columns=[model.endog_names])\n",
    "exog = pd.DataFrame(model.exog, columns=model.exog_names)\n",
    "\n",
    "actual = endog['Loan_Status']\n",
    "baseline = actual.mean()\n",
    "baseline"
   ]
  },
  {
   "cell_type": "code",
   "execution_count": 49,
   "id": "32a032be",
   "metadata": {},
   "outputs": [
    {
     "data": {
      "text/plain": [
       "(232.0, 106.0)"
      ]
     },
     "execution_count": 49,
     "metadata": {},
     "output_type": "execute_result"
    }
   ],
   "source": [
    "predict = (results.predict() >= 0.69)\n",
    "true_pos = predict * actual\n",
    "true_neg = (1 - predict) * (1 - actual)\n",
    "sum(true_pos), sum(true_neg)"
   ]
  },
  {
   "cell_type": "code",
   "execution_count": 50,
   "id": "8e818a1c",
   "metadata": {},
   "outputs": [
    {
     "name": "stdout",
     "output_type": "stream",
     "text": [
      "Accuracy: 58.58%\n"
     ]
    }
   ],
   "source": [
    "acc = (sum(true_pos) + sum(true_neg)) / len(actual)\n",
    "print(f'Accuracy: {round(acc * 100,2)}%')"
   ]
  },
  {
   "cell_type": "markdown",
   "id": "368893a5",
   "metadata": {},
   "source": [
    "#### Wrap up:"
   ]
  },
  {
   "cell_type": "markdown",
   "id": "e9103f5d",
   "metadata": {},
   "source": [
    "#### Loan application prediction dataset\n",
    "\n",
    "The dataset was downloaded from kaggle via link: https://www.kaggle.com/datasets/altruistdelhite04/loan-prediction-problem-dataset. Overall this dataset consists of records for 614 different applications having 13 explatory variables as described below:\n",
    "\n",
    "* Loan_ID: Is a String value that represents the applicant's ID.\n",
    "* Gender: Is a String value that represets applicants gender type (Male/Female).\n",
    "* Married: Is a String value that represent the applicants marital status (Yes/No).\n",
    "* Dependents: Is an Integer value that shows number applicants dependents.\n",
    "* Education: Is a String value showing the applicants education level.\n",
    "* Self_Employed: Is a String value showing applicants self employement status (Yes/No).\n",
    "* ApplicantIncome: Is an Integer value that shows applicants annual income.\n",
    "* CoapplicantIncome: Is an Integer value that show Co'applicants annual income\n",
    "* LoanAmount: Is an Integer value that shows the amount of requested loan upto to $700.\n",
    "* Loan_Amount_Term: Is an Integer value that shows the length of Loan based on days\n",
    "* Credit_History: Is an Integer value showing Credit_history availability (0/1)\n",
    "* Loan_Status: Is a String value showing the Loan Approval status (Y/N)\n",
    "\n",
    "The main goal is to find a model to predict loan aaplication approval for a typical applicant using relationships between its variables.The focus of study is manily on the assumption that normally married applicant have more tendency to apply for a higher loan amount as compared to single applicants. This might be because of number of dependenices that married applicants have or other combination of possibilities. For simplicity we only focused on the main assumption and didn't evaluate the number of dependents or area of living of applicants. For this only 6/13 variables(Married, Education, ApplicantIncome, CoapplicantIncome, LoanAmountCats, Loan_Status) are selected for detail study. Additionaly 37 records were dropped from the dataset because of having missing values.\n",
    "\n",
    "Studying histogram graphs for variables of interest we see that most of the applicants and co-applicants have an income of less than \\\\$10000 , and requested Loan amount of mainly around $120. After creating of two datasets based on marital status we see that mean of loan amount for married and singles are respectivly \\\\$153, \\\\$128, and mean applicant income of \\\\$5475 for marrieds and \\\\$4968 for singles indicating that generally married applicants have applied for a higher loan amouns.\n",
    "\n",
    "Statistical study of PMF/CMF for both groups shows some degree of positive confirmation that in general married applicants have more tendency to apply for a higher loan amount as compared to singles. We can see that 60\\% of single applicants have applied for amounts of less than \\\\$100 whereas only around 55\\% of married applicants have applied for the same amount. However this is happening slightly but not consistently indicating that a need for deep study. Aligned with the results achieved previously and scatter plots of ApplicantIncome and LoanAmount there a positive correlation between mentioned variables (Marrieds: 0.54 and Singles: 0.52). Notably: even though there is a difference between these groups, but it is ignorable.\n",
    "\n",
    "Coming to the proposed two hypothesis\n",
    "First: The distribution of Loan Amount for both Single and Marrid are same. Insignificant p-value of around 0.39. \n",
    "Second: The distribution of Loan Amount for single applicants are tend to be less than married applicants. Insignificant p-value of 0.8.\n",
    "P-valuses for both hypothesis show it is plausible that the observed difference is just the result of random sampling, and might not be generally true in a big population. This in turn is aligned to the correlation result because there there was a negligible difference around 0.2 (0.54 - 0.52 = 0.02).\n",
    "\n",
    "Finally a multi-variable logestic regression model is used to predict the loan aaplication approval using the variables of interest (Married, Education, ApplicantIncome, CoapplicantIncome, LoanAmountCats). The model provides 58% accuracy for loan approval status prediction.\n",
    "\n",
    "Conclusion:\n",
    "The dataset only represents a samll number of population (only 614 application). Having a dataset with more samples can provide more resolution and the result can be inferenced with more confidence for a broad population. Therefore, generally speakingthe assumptions and findlings related to them in this study are not certain, however we can say the findings are true for the provided dataset.\n",
    "It also needs to be mentioned that using data mining on all 13 variables of the dataset might suggests some more correlated variables to our model and could increase the accuracy of the model.\n"
   ]
  },
  {
   "cell_type": "markdown",
   "id": "c3913a46",
   "metadata": {},
   "source": [
    "## SKLEARN Logestic Regression Model\n",
    "\n",
    "As compared to the prviously applied logestic model below we will try to predict the loan approval status using python sklearn module\n",
    "\n",
    "#### Following applying logestic regression using python sklearn module provides 77.5% accuracy"
   ]
  },
  {
   "cell_type": "code",
   "execution_count": 51,
   "id": "0f5964b0",
   "metadata": {},
   "outputs": [],
   "source": [
    "from sklearn.linear_model import LogisticRegression \n",
    "from sklearn.model_selection import train_test_split \n",
    "from sklearn import metrics "
   ]
  },
  {
   "cell_type": "markdown",
   "id": "e24b9b40",
   "metadata": {},
   "source": [
    "### Data Cleaning"
   ]
  },
  {
   "cell_type": "code",
   "execution_count": 52,
   "id": "eb3ec91c",
   "metadata": {},
   "outputs": [
    {
     "name": "stderr",
     "output_type": "stream",
     "text": [
      "C:\\Users\\Arash\\AppData\\Local\\Temp/ipykernel_16336/3882159089.py:11: FutureWarning: The default value of regex will change from True to False in a future version. In addition, single character regular expressions will *not* be treated as literal strings when regex=True.\n",
      "  df['Dependents'] = df['Dependents'].str.replace('+', '')\n"
     ]
    }
   ],
   "source": [
    "df = pd.read_csv('Loan Predication.csv')\n",
    "df.dropna(inplace=True)\n",
    "df['Gender'].replace(['Male', 'Female'], [1, 0], inplace=True)    # 1: Male and 0: Female\n",
    "df['Married'].replace(['Yes', 'No'], [1, 0], inplace=True)    # 1: Married and 0: single\n",
    "df['Education'].replace(['Graduate', 'Not Graduate'], [1, 0], inplace=True)    # 1: Graduate and 0: Not Graduate\n",
    "df['Self_Employed'].replace(['Yes', 'No'], [1, 0], inplace=True)    # 1: Yes and 0: No\n",
    "df['Property_Area'].replace(['Rural', 'Urban', 'Semiurban'], [0, 1, 2], inplace=True)    # 0: Rural and 1: Urban, 2:Semiurban \n",
    "\n",
    "\n",
    "df['Dependents'] = df['Dependents'].astype(str)\n",
    "df['Dependents'] = df['Dependents'].str.replace('+', '')"
   ]
  },
  {
   "cell_type": "markdown",
   "id": "f7aff4f9",
   "metadata": {},
   "source": [
    "#### Define Dependent and independent variables"
   ]
  },
  {
   "cell_type": "code",
   "execution_count": 53,
   "id": "260d2636",
   "metadata": {},
   "outputs": [],
   "source": [
    "diab_cols = ['Gender', 'Married', 'Dependents', 'Education', 'Self_Employed', 'ApplicantIncome', 'CoapplicantIncome', 'LoanAmount',\n",
    "       'Loan_Amount_Term', 'Credit_History', 'Property_Area'] \n",
    "X = df[diab_cols]  # Features\n",
    "y = df.Loan_Status # Target variable "
   ]
  },
  {
   "cell_type": "markdown",
   "id": "d3a302a6",
   "metadata": {},
   "source": [
    "#### Define train and test datasets"
   ]
  },
  {
   "cell_type": "code",
   "execution_count": 54,
   "id": "c1b5bb33",
   "metadata": {},
   "outputs": [],
   "source": [
    "X_train,X_test,y_train,y_test=train_test_split(X,y,test_size=0.25,random_state=0) \n",
    "logreg =  LogisticRegression(solver='liblinear') \n",
    "logreg.fit(X_train,y_train) \n",
    "y_pred=logreg.predict(X_test) "
   ]
  },
  {
   "cell_type": "markdown",
   "id": "2587df42",
   "metadata": {},
   "source": [
    "#### Plot cnf_matrix heat map"
   ]
  },
  {
   "cell_type": "code",
   "execution_count": 55,
   "id": "46fc0997",
   "metadata": {},
   "outputs": [
    {
     "data": {
      "text/plain": [
       "array([[16, 26],\n",
       "       [ 1, 77]], dtype=int64)"
      ]
     },
     "execution_count": 55,
     "metadata": {},
     "output_type": "execute_result"
    }
   ],
   "source": [
    "cnf_matrix = metrics.confusion_matrix(y_test, y_pred) \n",
    "cnf_matrix "
   ]
  },
  {
   "cell_type": "code",
   "execution_count": 56,
   "id": "81d79263",
   "metadata": {},
   "outputs": [
    {
     "data": {
      "text/plain": [
       "Text(0.5, 257.44, 'Predicted label')"
      ]
     },
     "execution_count": 56,
     "metadata": {},
     "output_type": "execute_result"
    },
    {
     "data": {
      "image/png": "[encoded data removed]",
      "text/plain": [
       "<Figure size 432x288 with 2 Axes>"
      ]
     },
     "metadata": {
      "needs_background": "light"
     },
     "output_type": "display_data"
    }
   ],
   "source": [
    "class_names=[0,1] # name  of classes \n",
    "fig, ax = plt.subplots() \n",
    "tick_marks = np.arange(len(class_names)) \n",
    "plt.xticks(tick_marks, class_names)\n",
    "plt.yticks(tick_marks, class_names) \n",
    "\n",
    "# create heatmap \n",
    "\n",
    "sns.heatmap(pd.DataFrame(cnf_matrix), annot=True, cmap=\"YlGnBu\" ,fmt='g') \n",
    "ax.xaxis.set_label_position(\"top\")\n",
    "plt.tight_layout()\n",
    "plt.title('Confusion matrix', y=1.1) \n",
    "plt.ylabel('Actual label') \n",
    "plt.xlabel('Predicted label')"
   ]
  },
  {
   "cell_type": "markdown",
   "id": "df032c2f",
   "metadata": {},
   "source": [
    "#### Model accuracy"
   ]
  },
  {
   "cell_type": "code",
   "execution_count": 57,
   "id": "f375438b",
   "metadata": {},
   "outputs": [
    {
     "name": "stdout",
     "output_type": "stream",
     "text": [
      "Accuracy: 77.5%\n"
     ]
    }
   ],
   "source": [
    "print(f'Accuracy: {metrics.accuracy_score(y_test, y_pred)*100}%') "
   ]
  }
 ],
 "metadata": {
  "kernelspec": {
   "display_name": "Python 3 (ipykernel)",
   "language": "python",
   "name": "python3"
  },
  "language_info": {
   "codemirror_mode": {
    "name": "ipython",
    "version": 3
   },
   "file_extension": ".py",
   "mimetype": "text/x-python",
   "name": "python",
   "nbconvert_exporter": "python",
   "pygments_lexer": "ipython3",
   "version": "3.9.7"
  }
 },
 "nbformat": 4,
 "nbformat_minor": 5
}
